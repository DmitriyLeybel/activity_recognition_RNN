{
 "cells": [
  {
   "cell_type": "markdown",
   "metadata": {},
   "source": [
    "# RNN with sensor data - Keras"
   ]
  },
  {
   "cell_type": "markdown",
   "metadata": {},
   "source": [
    "Data consists of 15 subjects monitored on the same 7 activities with accelerometer data(x, y, z axes)\n",
    "\n",
    "Training set uses the first 14 subjects, with the validation set composed of the 15th data.\n",
    "\n",
    "The data is first smoothed out with a min-max scaler, followed by a onehot encoding of the 8 activities.\n",
    "(0 1 0 0 0 0 0 0 would represent the 2nd activity)\n",
    "\n",
    "Timesteps are defined as the amount of rows in a time slice. "
   ]
  },
  {
   "cell_type": "code",
   "execution_count": 135,
   "metadata": {
    "collapsed": false
   },
   "outputs": [],
   "source": [
    "import os\n",
    "import numpy as np\n",
    "from sklearn.preprocessing import OneHotEncoder, MinMaxScaler\n",
    "from keras.models import Sequential\n",
    "from keras.layers.recurrent import SimpleRNN\n",
    "from keras.layers import Dense, Dropout\n",
    "\n",
    "subj_list = []\n",
    "for f in os.listdir('data'):\n",
    "    f = 'data\\\\' + f\n",
    "    with open(f) as subj:\n",
    "        subj_list.append(np.loadtxt(subj, delimiter=',', dtype=float)[:-1,1:])\n",
    "\n",
    "data = np.vstack(subj_list[0:-1])\n",
    "validation_data = subj_list[-1]\n",
    "X = data[:,0:-1]\n",
    "Y = data[:,-1]\n",
    "X_val = validation_data[:,0:-1]\n",
    "Y_val = validation_data[:,-1]\n",
    "Y.shape,Y_val.shape = (-1,1),(-1,1)\n",
    "minmax = MinMaxScaler()\n",
    "\n",
    "X = minmax.fit_transform(X)\n",
    "X_val = minmax.fit_transform(X_val)\n",
    "\n",
    "timesteps = 40\n",
    "\n",
    "onehot = OneHotEncoder(sparse=False)\n",
    "Y = onehot.fit_transform(Y)\n",
    "Y_val = onehot.fit_transform(Y_val)"
   ]
  },
  {
   "cell_type": "markdown",
   "metadata": {},
   "source": [
    "For the training values(X_t), an organization of [slices, timesteps, features] was necessary. Y_t required a similar arrangement of [slices, timesteps, classifications]\n",
    "\n",
    "Each slice was composed of 40 timesteps.\n",
    "If one slice was composed of the 10:50 timesteps, the next slice would be composed of 11:51 timesteps."
   ]
  },
  {
   "cell_type": "code",
   "execution_count": 181,
   "metadata": {
    "collapsed": false
   },
   "outputs": [
    {
     "name": "stdout",
     "output_type": "stream",
     "text": [
      "Wall time: 8.72 s\n"
     ]
    }
   ],
   "source": [
    "%%time\n",
    "X_t = np.empty((X.shape[0]-timesteps, timesteps, 3))\n",
    "for x in range(X.shape[0]-timesteps):\n",
    "    slic = X[x:x+timesteps,:]\n",
    "    slic.shape = (1, timesteps, 3)\n",
    "    X_t[x,:,:] = slic\n",
    "    \n",
    "X_val_t = np.empty((X_val.shape[0]-timesteps, timesteps, 3))\n",
    "for x in range(X_val.shape[0]-timesteps):\n",
    "    slic = X_val[x:x+timesteps,:]\n",
    "    slic.shape = (1, timesteps, 3)\n",
    "    X_val_t[x,:,:] = slic\n",
    "    \n",
    "Y_t = np.empty((X_t.shape[0], timesteps, 8))\n",
    "for x in range(Y_t.shape[0]):\n",
    "    Y_t[x] = Y[x:x+timesteps,:]\n",
    "\n",
    "Y_val_t = np.empty((X_val_t.shape[0], timesteps, 8))\n",
    "for x in range(Y_val_t.shape[0]):\n",
    "    Y_val_t[x,:,:] = Y_val[x:x+timesteps,:]"
   ]
  },
  {
   "cell_type": "markdown",
   "metadata": {},
   "source": [
    "The shape of the validation set of the Y classifications."
   ]
  },
  {
   "cell_type": "code",
   "execution_count": 182,
   "metadata": {
    "collapsed": false
   },
   "outputs": [
    {
     "data": {
      "text/plain": [
       "(166700L, 40L, 8L)"
      ]
     },
     "execution_count": 182,
     "metadata": {},
     "output_type": "execute_result"
    }
   ],
   "source": [
    "Y_val_t.shape"
   ]
  },
  {
   "cell_type": "markdown",
   "metadata": {},
   "source": [
    "A time distributed wrapper is used to go around a Dense layer in order to have it work well with recurrent networks."
   ]
  },
  {
   "cell_type": "code",
   "execution_count": 150,
   "metadata": {
    "collapsed": false
   },
   "outputs": [],
   "source": [
    "from keras.layers.wrappers import TimeDistributed"
   ]
  },
  {
   "cell_type": "markdown",
   "metadata": {},
   "source": [
    "Red denotes the compilation of the GPU code.\n",
    "Even with GPU, I believe it took several hours to train.(forgot to include a timing function)"
   ]
  },
  {
   "cell_type": "code",
   "execution_count": 166,
   "metadata": {
    "collapsed": false
   },
   "outputs": [
    {
     "name": "stderr",
     "output_type": "stream",
     "text": [
      "DEBUG: nvcc STDOUT mod.cu\n",
      "   Creating library C:/Users/dmley/AppData/Local/Theano/compiledir_Windows-10-10.0.10586-Intel64_Family_6_Model_42_Stepping_7_GenuineIntel-2.7.11-64/tmpnu8a06/98f730ac3a1ea7df4872c3ca17df8dc1.lib and object C:/Users/dmley/AppData/Local/Theano/compiledir_Windows-10-10.0.10586-Intel64_Family_6_Model_42_Stepping_7_GenuineIntel-2.7.11-64/tmpnu8a06/98f730ac3a1ea7df4872c3ca17df8dc1.exp\n",
      "\n",
      "DEBUG: nvcc STDOUT mod.cu\n",
      "   Creating library C:/Users/dmley/AppData/Local/Theano/compiledir_Windows-10-10.0.10586-Intel64_Family_6_Model_42_Stepping_7_GenuineIntel-2.7.11-64/tmpvcvzf_/7f77e66149e522cdd27a8c3c0ae96021.lib and object C:/Users/dmley/AppData/Local/Theano/compiledir_Windows-10-10.0.10586-Intel64_Family_6_Model_42_Stepping_7_GenuineIntel-2.7.11-64/tmpvcvzf_/7f77e66149e522cdd27a8c3c0ae96021.exp\n",
      "\n",
      "DEBUG: nvcc STDOUT mod.cu\n",
      "   Creating library C:/Users/dmley/AppData/Local/Theano/compiledir_Windows-10-10.0.10586-Intel64_Family_6_Model_42_Stepping_7_GenuineIntel-2.7.11-64/tmpvoogpe/ca42af7660d8325bb790005a0988c54c.lib and object C:/Users/dmley/AppData/Local/Theano/compiledir_Windows-10-10.0.10586-Intel64_Family_6_Model_42_Stepping_7_GenuineIntel-2.7.11-64/tmpvoogpe/ca42af7660d8325bb790005a0988c54c.exp\n",
      "\n",
      "DEBUG: nvcc STDOUT mod.cu\n",
      "   Creating library C:/Users/dmley/AppData/Local/Theano/compiledir_Windows-10-10.0.10586-Intel64_Family_6_Model_42_Stepping_7_GenuineIntel-2.7.11-64/tmpdq3icp/0b775f8ddcfc1f975023f3875361c185.lib and object C:/Users/dmley/AppData/Local/Theano/compiledir_Windows-10-10.0.10586-Intel64_Family_6_Model_42_Stepping_7_GenuineIntel-2.7.11-64/tmpdq3icp/0b775f8ddcfc1f975023f3875361c185.exp\n",
      "\n",
      "DEBUG: nvcc STDOUT mod.cu\n",
      "   Creating library C:/Users/dmley/AppData/Local/Theano/compiledir_Windows-10-10.0.10586-Intel64_Family_6_Model_42_Stepping_7_GenuineIntel-2.7.11-64/tmpwofwsg/9eb53275349ec9d61aa2a4cc58a6ddbc.lib and object C:/Users/dmley/AppData/Local/Theano/compiledir_Windows-10-10.0.10586-Intel64_Family_6_Model_42_Stepping_7_GenuineIntel-2.7.11-64/tmpwofwsg/9eb53275349ec9d61aa2a4cc58a6ddbc.exp\n",
      "\n",
      "DEBUG: nvcc STDOUT mod.cu\n",
      "   Creating library C:/Users/dmley/AppData/Local/Theano/compiledir_Windows-10-10.0.10586-Intel64_Family_6_Model_42_Stepping_7_GenuineIntel-2.7.11-64/tmpes9ryv/dcad58edfbaa253c6377b293479d37d6.lib and object C:/Users/dmley/AppData/Local/Theano/compiledir_Windows-10-10.0.10586-Intel64_Family_6_Model_42_Stepping_7_GenuineIntel-2.7.11-64/tmpes9ryv/dcad58edfbaa253c6377b293479d37d6.exp\n",
      "\n",
      "DEBUG: nvcc STDOUT mod.cu\n",
      "   Creating library C:/Users/dmley/AppData/Local/Theano/compiledir_Windows-10-10.0.10586-Intel64_Family_6_Model_42_Stepping_7_GenuineIntel-2.7.11-64/tmptulsr8/0c0ffa426502fa12d09ae36db01d1c00.lib and object C:/Users/dmley/AppData/Local/Theano/compiledir_Windows-10-10.0.10586-Intel64_Family_6_Model_42_Stepping_7_GenuineIntel-2.7.11-64/tmptulsr8/0c0ffa426502fa12d09ae36db01d1c00.exp\n",
      "\n",
      "DEBUG: nvcc STDOUT mod.cu\n",
      "   Creating library C:/Users/dmley/AppData/Local/Theano/compiledir_Windows-10-10.0.10586-Intel64_Family_6_Model_42_Stepping_7_GenuineIntel-2.7.11-64/tmpkfqn0z/f5769c56db2af045409aff596ae344f9.lib and object C:/Users/dmley/AppData/Local/Theano/compiledir_Windows-10-10.0.10586-Intel64_Family_6_Model_42_Stepping_7_GenuineIntel-2.7.11-64/tmpkfqn0z/f5769c56db2af045409aff596ae344f9.exp\n",
      "\n",
      "DEBUG: nvcc STDOUT mod.cu\n",
      "   Creating library C:/Users/dmley/AppData/Local/Theano/compiledir_Windows-10-10.0.10586-Intel64_Family_6_Model_42_Stepping_7_GenuineIntel-2.7.11-64/tmp1gvdyb/9281f9b682cdce54236fbc75f146e7b2.lib and object C:/Users/dmley/AppData/Local/Theano/compiledir_Windows-10-10.0.10586-Intel64_Family_6_Model_42_Stepping_7_GenuineIntel-2.7.11-64/tmp1gvdyb/9281f9b682cdce54236fbc75f146e7b2.exp\n",
      "\n",
      "DEBUG: nvcc STDOUT mod.cu\n",
      "   Creating library C:/Users/dmley/AppData/Local/Theano/compiledir_Windows-10-10.0.10586-Intel64_Family_6_Model_42_Stepping_7_GenuineIntel-2.7.11-64/tmpdob4t4/b2630177da1b8541a0e790eae0a53c09.lib and object C:/Users/dmley/AppData/Local/Theano/compiledir_Windows-10-10.0.10586-Intel64_Family_6_Model_42_Stepping_7_GenuineIntel-2.7.11-64/tmpdob4t4/b2630177da1b8541a0e790eae0a53c09.exp\n",
      "\n",
      "DEBUG: nvcc STDOUT mod.cu\n",
      "   Creating library C:/Users/dmley/AppData/Local/Theano/compiledir_Windows-10-10.0.10586-Intel64_Family_6_Model_42_Stepping_7_GenuineIntel-2.7.11-64/tmper3cxz/b54807bcc4e26b2400607cdbcf91a080.lib and object C:/Users/dmley/AppData/Local/Theano/compiledir_Windows-10-10.0.10586-Intel64_Family_6_Model_42_Stepping_7_GenuineIntel-2.7.11-64/tmper3cxz/b54807bcc4e26b2400607cdbcf91a080.exp\n",
      "\n",
      "DEBUG: nvcc STDOUT mod.cu\n",
      "   Creating library C:/Users/dmley/AppData/Local/Theano/compiledir_Windows-10-10.0.10586-Intel64_Family_6_Model_42_Stepping_7_GenuineIntel-2.7.11-64/tmpznfuxm/6a2c7eddd1ccc664cd9ced53405ed473.lib and object C:/Users/dmley/AppData/Local/Theano/compiledir_Windows-10-10.0.10586-Intel64_Family_6_Model_42_Stepping_7_GenuineIntel-2.7.11-64/tmpznfuxm/6a2c7eddd1ccc664cd9ced53405ed473.exp\n",
      "\n",
      "DEBUG: nvcc STDOUT mod.cu\n",
      "   Creating library C:/Users/dmley/AppData/Local/Theano/compiledir_Windows-10-10.0.10586-Intel64_Family_6_Model_42_Stepping_7_GenuineIntel-2.7.11-64/tmphevrj6/3d6ea06e14a2eac7e20cc661f60176f0.lib and object C:/Users/dmley/AppData/Local/Theano/compiledir_Windows-10-10.0.10586-Intel64_Family_6_Model_42_Stepping_7_GenuineIntel-2.7.11-64/tmphevrj6/3d6ea06e14a2eac7e20cc661f60176f0.exp\n",
      "\n",
      "DEBUG: nvcc STDOUT mod.cu\n",
      "   Creating library C:/Users/dmley/AppData/Local/Theano/compiledir_Windows-10-10.0.10586-Intel64_Family_6_Model_42_Stepping_7_GenuineIntel-2.7.11-64/tmpbcw1ih/9d6fd17346cccc32412cffca5bcd0226.lib and object C:/Users/dmley/AppData/Local/Theano/compiledir_Windows-10-10.0.10586-Intel64_Family_6_Model_42_Stepping_7_GenuineIntel-2.7.11-64/tmpbcw1ih/9d6fd17346cccc32412cffca5bcd0226.exp\n",
      "\n"
     ]
    }
   ],
   "source": [
    "model = Sequential()\n",
    "model.add(SimpleRNN(output_dim=10, input_shape=(timesteps, 3), activation='sigmoid', return_sequences=True))\n",
    "model.add(TimeDistributed(Dense(8, activation='softmax')))\n",
    "model.compile(loss='categorical_crossentropy', optimizer='rmsprop')\n",
    "hist = model.fit(X_t,Y_t, batch_size=1, nb_epoch=1,  verbose=0)"
   ]
  },
  {
   "cell_type": "markdown",
   "metadata": {},
   "source": [
    "Checks the validation data manually - as I didn't want to burden the training algorithm even more than it already was.\n",
    "\n",
    "The output activation was a softmax function, and so it seems to predict this timeslice accurately."
   ]
  },
  {
   "cell_type": "code",
   "execution_count": 187,
   "metadata": {
    "collapsed": false
   },
   "outputs": [
    {
     "name": "stdout",
     "output_type": "stream",
     "text": [
      "1/1 [==============================] - 0s\n",
      "[[[  3.37347119e-05   3.50438535e-01   4.80841193e-03   1.36099264e-01\n",
      "     1.95501328e-01   3.68134188e-03   7.74597656e-03   3.01691502e-01]\n",
      "  [  6.40502330e-05   3.66281301e-01   4.90757311e-03   1.22001871e-01\n",
      "     1.91140920e-01   3.50599992e-03   8.14373791e-03   3.03954542e-01]\n",
      "  [  6.61160957e-05   3.67044419e-01   4.91179852e-03   1.21319458e-01\n",
      "     1.90932199e-01   3.49661848e-03   8.16170033e-03   3.04067731e-01]\n",
      "  [  6.55482145e-05   3.66835415e-01   4.91079967e-03   1.21502250e-01\n",
      "     1.90986618e-01   3.49932327e-03   8.15705303e-03   3.04043025e-01]\n",
      "  [  6.11062860e-05   3.65100324e-01   4.90011740e-03   1.22996934e-01\n",
      "     1.91480592e-01   3.51909711e-03   8.11549835e-03   3.03826332e-01]\n",
      "  [  6.43778330e-05   3.66361350e-01   4.90864553e-03   1.21894538e-01\n",
      "     1.91136032e-01   3.50462622e-03   8.14651139e-03   3.03983867e-01]\n",
      "  [  6.98216900e-05   3.68378937e-01   4.91943723e-03   1.20195195e-01\n",
      "     1.90553382e-01   3.48159694e-03   8.19537789e-03   3.04206222e-01]\n",
      "  [  6.33940654e-05   3.65997255e-01   4.90556378e-03   1.22220166e-01\n",
      "     1.91225991e-01   3.50884465e-03   8.13742261e-03   3.03941369e-01]\n",
      "  [  6.37184421e-05   3.66122782e-01   4.90664784e-03   1.22112922e-01\n",
      "     1.91174850e-01   3.50747816e-03   8.14021379e-03   3.03971380e-01]\n",
      "  [  7.02184334e-05   3.68532538e-01   4.92028613e-03   1.20069295e-01\n",
      "     1.90470025e-01   3.48007306e-03   8.19879491e-03   3.04258764e-01]\n",
      "  [  6.26694891e-05   3.65721494e-01   4.90426086e-03   1.22456506e-01\n",
      "     1.91315308e-01   3.51177016e-03   8.13029986e-03   3.03897768e-01]\n",
      "  [  6.84799816e-05   3.67886722e-01   4.91706328e-03   1.20592676e-01\n",
      "     1.90694079e-01   3.48671991e-03   8.18342716e-03   3.04170817e-01]\n",
      "  [  6.81045349e-05   3.67750376e-01   4.91644163e-03   1.20709956e-01\n",
      "     1.90716520e-01   3.48883355e-03   8.18039384e-03   3.04169476e-01]\n",
      "  [  6.93226466e-05   3.68209958e-01   4.91838157e-03   1.20330855e-01\n",
      "     1.90582246e-01   3.48339928e-03   8.19061697e-03   3.04215193e-01]\n",
      "  [  6.89299632e-05   3.68050873e-01   4.91805747e-03   1.20455191e-01\n",
      "     1.90639496e-01   3.48529685e-03   8.18707794e-03   3.04195136e-01]\n",
      "  [  6.94363262e-05   3.68228883e-01   4.91923466e-03   1.20307662e-01\n",
      "     1.90568805e-01   3.48315341e-03   8.19203909e-03   3.04230809e-01]\n",
      "  [  6.94765549e-05   3.68262261e-01   4.91908006e-03   1.20289199e-01\n",
      "     1.90562814e-01   3.48304422e-03   8.19278229e-03   3.04221272e-01]\n",
      "  [  6.56592747e-05   3.66874427e-01   4.91072144e-03   1.21470675e-01\n",
      "     1.90983593e-01   3.49884084e-03   8.15792009e-03   3.04038197e-01]\n",
      "  [  6.76641284e-05   3.67609322e-01   4.91515547e-03   1.20840549e-01\n",
      "     1.90736473e-01   3.49047640e-03   8.17625877e-03   3.04164171e-01]\n",
      "  [  6.56198172e-05   3.66877764e-01   4.91016731e-03   1.21486604e-01\n",
      "     1.90962017e-01   3.49887274e-03   8.15799460e-03   3.04040968e-01]\n",
      "  [  6.72141177e-05   3.67444962e-01   4.91415802e-03   1.20978341e-01\n",
      "     1.90790907e-01   3.49232485e-03   8.17260239e-03   3.04139555e-01]\n",
      "  [  6.80619851e-05   3.67745191e-01   4.91577247e-03   1.20722994e-01\n",
      "     1.90713838e-01   3.48878442e-03   8.18027835e-03   3.04165184e-01]\n",
      "  [  7.02692269e-05   3.68529141e-01   4.92084259e-03   1.20053537e-01\n",
      "     1.90491512e-01   3.48004093e-03   8.19871947e-03   3.04255962e-01]\n",
      "  [  6.82980244e-05   3.67850989e-01   4.91658552e-03   1.20639853e-01\n",
      "     1.90675557e-01   3.48765845e-03   8.18263181e-03   3.04178447e-01]\n",
      "  [  6.62134989e-05   3.67091954e-01   4.91183391e-03   1.21290743e-01\n",
      "     1.90910324e-01   3.49621824e-03   8.16275738e-03   3.04069966e-01]\n",
      "  [  6.77420321e-05   3.67628485e-01   4.91541158e-03   1.20832101e-01\n",
      "     1.90746412e-01   3.49023263e-03   8.17668438e-03   3.04142892e-01]\n",
      "  [  6.30992872e-05   3.65899831e-01   4.90485597e-03   1.22321941e-01\n",
      "     1.91268459e-01   3.51005280e-03   8.13426450e-03   3.03897530e-01]\n",
      "  [  6.84852348e-05   3.67914945e-01   4.91684070e-03   1.20587215e-01\n",
      "     1.90685451e-01   3.48698744e-03   8.18305649e-03   3.04157048e-01]\n",
      "  [  7.00461678e-05   3.68437082e-01   4.92021348e-03   1.20126151e-01\n",
      "     1.90513685e-01   3.48087144e-03   8.19767080e-03   3.04254234e-01]\n",
      "  [  6.83609978e-05   3.67875844e-01   4.91631823e-03   1.20618559e-01\n",
      "     1.90688446e-01   3.48746870e-03   8.18318501e-03   3.04161817e-01]\n",
      "  [  6.92628746e-05   3.68162036e-01   4.91834152e-03   1.20359272e-01\n",
      "     1.90603986e-01   3.48379673e-03   8.19055177e-03   3.04212749e-01]\n",
      "  [  6.41564257e-05   3.66306722e-01   4.90731513e-03   1.21965662e-01\n",
      "     1.91130877e-01   3.50538711e-03   8.14430322e-03   3.03975642e-01]\n",
      "  [  6.54393152e-05   3.66762847e-01   4.91042715e-03   1.21552378e-01\n",
      "     1.90995440e-01   3.49991256e-03   8.15643650e-03   3.04057062e-01]\n",
      "  [  6.67752465e-05   3.67280573e-01   4.91315918e-03   1.21116288e-01\n",
      "     1.90845266e-01   3.49417375e-03   8.16894695e-03   3.04114819e-01]\n",
      "  [  7.00798773e-05   3.68479460e-01   4.92017949e-03   1.20110631e-01\n",
      "     1.90489084e-01   3.48084630e-03   8.19761399e-03   3.04252088e-01]\n",
      "  [  6.75577758e-05   3.67569596e-01   4.91522485e-03   1.20886505e-01\n",
      "     1.90762445e-01   3.49095184e-03   8.17637239e-03   3.04131299e-01]\n",
      "  [  6.71960952e-05   3.67436081e-01   4.91403928e-03   1.20990202e-01\n",
      "     1.90832853e-01   3.49224033e-03   8.17240495e-03   3.04095060e-01]\n",
      "  [  6.71270100e-05   3.67416859e-01   4.91378224e-03   1.20998636e-01\n",
      "     1.90822870e-01   3.49248364e-03   8.17197748e-03   3.04116279e-01]\n",
      "  [  6.97567375e-05   3.68350953e-01   4.91966307e-03   1.20200731e-01\n",
      "     1.90562174e-01   3.48175736e-03   8.19475483e-03   3.04220259e-01]\n",
      "  [  6.64090403e-05   3.67143899e-01   4.91252914e-03   1.21248677e-01\n",
      "     1.90890729e-01   3.49585875e-03   8.16590711e-03   3.04075897e-01]]]\n"
     ]
    },
    {
     "data": {
      "text/plain": [
       "array([[ 0.,  1.,  0.,  0.,  0.,  0.,  0.,  0.],\n",
       "       [ 0.,  1.,  0.,  0.,  0.,  0.,  0.,  0.],\n",
       "       [ 0.,  1.,  0.,  0.,  0.,  0.,  0.,  0.],\n",
       "       [ 0.,  1.,  0.,  0.,  0.,  0.,  0.,  0.],\n",
       "       [ 0.,  1.,  0.,  0.,  0.,  0.,  0.,  0.],\n",
       "       [ 0.,  1.,  0.,  0.,  0.,  0.,  0.,  0.],\n",
       "       [ 0.,  1.,  0.,  0.,  0.,  0.,  0.,  0.],\n",
       "       [ 0.,  1.,  0.,  0.,  0.,  0.,  0.,  0.],\n",
       "       [ 0.,  1.,  0.,  0.,  0.,  0.,  0.,  0.],\n",
       "       [ 0.,  1.,  0.,  0.,  0.,  0.,  0.,  0.],\n",
       "       [ 0.,  1.,  0.,  0.,  0.,  0.,  0.,  0.],\n",
       "       [ 0.,  1.,  0.,  0.,  0.,  0.,  0.,  0.],\n",
       "       [ 0.,  1.,  0.,  0.,  0.,  0.,  0.,  0.],\n",
       "       [ 0.,  1.,  0.,  0.,  0.,  0.,  0.,  0.],\n",
       "       [ 0.,  1.,  0.,  0.,  0.,  0.,  0.,  0.],\n",
       "       [ 0.,  1.,  0.,  0.,  0.,  0.,  0.,  0.],\n",
       "       [ 0.,  1.,  0.,  0.,  0.,  0.,  0.,  0.],\n",
       "       [ 0.,  1.,  0.,  0.,  0.,  0.,  0.,  0.],\n",
       "       [ 0.,  1.,  0.,  0.,  0.,  0.,  0.,  0.],\n",
       "       [ 0.,  1.,  0.,  0.,  0.,  0.,  0.,  0.],\n",
       "       [ 0.,  1.,  0.,  0.,  0.,  0.,  0.,  0.],\n",
       "       [ 0.,  1.,  0.,  0.,  0.,  0.,  0.,  0.],\n",
       "       [ 0.,  1.,  0.,  0.,  0.,  0.,  0.,  0.],\n",
       "       [ 0.,  1.,  0.,  0.,  0.,  0.,  0.,  0.],\n",
       "       [ 0.,  1.,  0.,  0.,  0.,  0.,  0.,  0.],\n",
       "       [ 0.,  1.,  0.,  0.,  0.,  0.,  0.,  0.],\n",
       "       [ 0.,  1.,  0.,  0.,  0.,  0.,  0.,  0.],\n",
       "       [ 0.,  1.,  0.,  0.,  0.,  0.,  0.,  0.],\n",
       "       [ 0.,  1.,  0.,  0.,  0.,  0.,  0.,  0.],\n",
       "       [ 0.,  1.,  0.,  0.,  0.,  0.,  0.,  0.],\n",
       "       [ 0.,  1.,  0.,  0.,  0.,  0.,  0.,  0.],\n",
       "       [ 0.,  1.,  0.,  0.,  0.,  0.,  0.,  0.],\n",
       "       [ 0.,  1.,  0.,  0.,  0.,  0.,  0.,  0.],\n",
       "       [ 0.,  1.,  0.,  0.,  0.,  0.,  0.,  0.],\n",
       "       [ 0.,  1.,  0.,  0.,  0.,  0.,  0.,  0.],\n",
       "       [ 0.,  1.,  0.,  0.,  0.,  0.,  0.,  0.],\n",
       "       [ 0.,  1.,  0.,  0.,  0.,  0.,  0.,  0.],\n",
       "       [ 0.,  1.,  0.,  0.,  0.,  0.,  0.,  0.],\n",
       "       [ 0.,  1.,  0.,  0.,  0.,  0.,  0.,  0.],\n",
       "       [ 0.,  1.,  0.,  0.,  0.,  0.,  0.,  0.]])"
      ]
     },
     "execution_count": 187,
     "metadata": {},
     "output_type": "execute_result"
    }
   ],
   "source": [
    "print(model.predict(X_val_t[20000,:,:].reshape(1,40,-1) , verbose=1))\n",
    "\n",
    "Y_val_t[20000,:,:]\n",
    "\n",
    "\n",
    "\n",
    "\n"
   ]
  },
  {
   "cell_type": "code",
   "execution_count": 178,
   "metadata": {
    "collapsed": false
   },
   "outputs": [
    {
     "name": "stdout",
     "output_type": "stream",
     "text": [
      "{'loss': [1.6677824325436796]}\n"
     ]
    }
   ],
   "source": [
    "print(hist.history)"
   ]
  },
  {
   "cell_type": "markdown",
   "metadata": {},
   "source": [
    "For future reference: Need to decrease training data by perhaps 95% in order to experiment with dropout, more layers, and including the validation set within the Keras algorithm."
   ]
  }
 ],
 "metadata": {
  "kernelspec": {
   "display_name": "Python 2",
   "language": "python",
   "name": "python2"
  },
  "language_info": {
   "codemirror_mode": {
    "name": "ipython",
    "version": 2
   },
   "file_extension": ".py",
   "mimetype": "text/x-python",
   "name": "python",
   "nbconvert_exporter": "python",
   "pygments_lexer": "ipython2",
   "version": "2.7.11"
  }
 },
 "nbformat": 4,
 "nbformat_minor": 0
}
